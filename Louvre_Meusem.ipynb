{
  "nbformat": 4,
  "nbformat_minor": 0,
  "metadata": {
    "colab": {
      "provenance": []
    },
    "kernelspec": {
      "name": "python3",
      "display_name": "Python 3"
    },
    "language_info": {
      "name": "python"
    }
  },
  "cells": [
    {
      "cell_type": "code",
      "execution_count": null,
      "metadata": {
        "colab": {
          "base_uri": "https://localhost:8080/",
          "height": 53
        },
        "id": "xrgQyOInWTgc",
        "outputId": "52d515d3-8ee0-405c-f884-7371a722f5dd"
      },
      "outputs": [
        {
          "output_type": "execute_result",
          "data": {
            "text/plain": [
              "\"\\nTo detect the the theif movement, first we'll need an enviroment where we can stimulate the theif movement\\nThe special locations\\n* Artifact (1)\\n* Exit (2)\\n* Gaurds (3)\\n* Empty (0)\\n\\n\""
            ],
            "application/vnd.google.colaboratory.intrinsic+json": {
              "type": "string"
            }
          },
          "metadata": {},
          "execution_count": 1
        }
      ],
      "source": [
        "\"\"\"\n",
        "To detect the the theif movement, first we'll need an enviroment where we can stimulate the theif movement\n",
        "The special locations\n",
        "* Artifact (1)\n",
        "* Exit (2)\n",
        "* Gaurds (3)\n",
        "* Empty (0)\n",
        "\n",
        "\"\"\"\n"
      ]
    },
    {
      "cell_type": "markdown",
      "source": [
        "Step 1: Representing the Mueseum Grid"
      ],
      "metadata": {
        "id": "ohJH0onEYFgH"
      }
    },
    {
      "cell_type": "code",
      "source": [
        "import numpy as np\n",
        "import matplotlib.pyplot as plt\n",
        "import random\n",
        "\n",
        "#Empty grid\n",
        "rows,cols = 10,10\n",
        "\n",
        "grid = np.zeros((rows,cols), dtype = int)\n",
        "\n",
        "#Artifacts\n",
        "\n",
        "# More artifacts\n",
        "artifacts = [(1, 2), (3, 5), (6, 1), (2, 6)]\n",
        "\n",
        "# Fewer guards\n",
        "num_guards = 2\n",
        "\n",
        "for r, c in artifacts:\n",
        "  grid[r,c] = 1\n",
        "\n",
        "exit_pos = (0,9)\n",
        "grid[exit_pos] = 2\n",
        "\n",
        "print(grid)"
      ],
      "metadata": {
        "colab": {
          "base_uri": "https://localhost:8080/"
        },
        "id": "pPnOUTnvYMox",
        "outputId": "1fd811af-f58e-4816-801a-fd96da274ed3"
      },
      "execution_count": null,
      "outputs": [
        {
          "output_type": "stream",
          "name": "stdout",
          "text": [
            "[[0 0 0 0 0 0 0 0 0 2]\n",
            " [0 0 1 0 0 0 0 0 0 0]\n",
            " [0 0 0 0 0 0 1 0 0 0]\n",
            " [0 0 0 0 0 1 0 0 0 0]\n",
            " [0 0 0 0 0 0 0 0 0 0]\n",
            " [0 0 0 0 0 0 0 0 0 0]\n",
            " [0 1 0 0 0 0 0 0 0 0]\n",
            " [0 0 0 0 0 0 0 0 0 0]\n",
            " [0 0 0 0 0 0 0 0 0 0]\n",
            " [0 0 0 0 0 0 0 0 0 0]]\n"
          ]
        }
      ]
    },
    {
      "cell_type": "markdown",
      "source": [
        "Step 2: Sinulating the Thief Movement"
      ],
      "metadata": {
        "id": "-xhnnc-WaY67"
      }
    },
    {
      "cell_type": "code",
      "source": [
        "def neighbors(pos, rows, cols):\n",
        "  r, c = pos\n",
        "\n",
        "  possible = [(r-1,c), (r+1, c), (r, c+1), (r, c-1)]\n",
        "\n",
        "  return [(x,y) for x, y in possible if 0 <= x < rows and 0 <= y < cols]"
      ],
      "metadata": {
        "id": "wttHI5QGY_qL"
      },
      "execution_count": null,
      "outputs": []
    },
    {
      "cell_type": "markdown",
      "source": [
        "Weighte moved towards artifcat"
      ],
      "metadata": {
        "id": "CNSnjcTlO7jy"
      }
    },
    {
      "cell_type": "code",
      "source": [
        "import random\n",
        "\n",
        "def weighted_move(pos, artifact_positions, rows, cols):\n",
        "    # Step 1: get valid neighbors\n",
        "    neigh = neighbors(pos, rows, cols)\n",
        "\n",
        "    # Step 2: compute distance to nearest artifact\n",
        "    def min_dist(cell):\n",
        "        return min(abs(cell[0] - artifact[0]) + abs(cell[1] - artifact[1]) for artifact in artifact_positions)\n",
        "\n",
        "    # Step 3: distances for all neighbors\n",
        "    distances = [min_dist(n) for n in neigh]\n",
        "\n",
        "    # Step 4: convert distances → weights\n",
        "    weights = [1 / (d + 1) for d in distances]\n",
        "    total = sum(weights)\n",
        "    probs = [w / total for w in weights]\n",
        "\n",
        "    # Step 5: choose next move based on probabilities\n",
        "    return random.choices(neigh, probs)[0]\n"
      ],
      "metadata": {
        "id": "3X9yr1pAlCRj"
      },
      "execution_count": null,
      "outputs": []
    },
    {
      "cell_type": "markdown",
      "source": [
        "Simulate single theif"
      ],
      "metadata": {
        "id": "ZFkUjnHTO_X-"
      }
    },
    {
      "cell_type": "code",
      "source": [
        "def simulate_one_thief_with_guards(start, artifacts, exit_pos, rows, cols, guards, max_steps=50):\n",
        "    pos = start\n",
        "    path = [pos]\n",
        "    carrying = False  # whether the thief has picked up an artifact\n",
        "\n",
        "    for _ in range(max_steps):\n",
        "        pos = weighted_move(pos, artifacts, rows, cols)\n",
        "        path.append(pos)\n",
        "\n",
        "        # if thief moves onto a guard\n",
        "        if pos in guards:\n",
        "            return {\"result\": \"caught\", \"path\": path}\n",
        "\n",
        "        # pick artifact\n",
        "        if not carrying and pos in artifacts:\n",
        "            carrying = True\n",
        "\n",
        "        # escape if carrying and reaches exit\n",
        "        if carrying and pos == exit_pos:\n",
        "            return {\"result\": \"escaped\", \"path\": path}\n",
        "\n",
        "    # if neither caught nor escaped within time limit\n",
        "    return {\"result\": \"timeout\", \"path\": path}\n"
      ],
      "metadata": {
        "id": "hxJMPPu2MYNd"
      },
      "execution_count": null,
      "outputs": []
    },
    {
      "cell_type": "markdown",
      "source": [
        "Multiple theives simulate"
      ],
      "metadata": {
        "id": "5stQAymV-UCU"
      }
    },
    {
      "cell_type": "code",
      "source": [
        "def multiple_thieves_with_guards(num_thieves, artifact_positions, exit_pos, rows, cols, guards, max_steps=50):\n",
        "    results = []\n",
        "    for _ in range(num_thieves):\n",
        "        start = (random.randint(0, rows-1), random.randint(0, cols-1))\n",
        "        # avoid spawning on artifact, exit, or guard\n",
        "        if start in artifact_positions or start in guards or start == exit_pos:\n",
        "            continue\n",
        "        res = simulate_one_thief_with_guards(start, artifact_positions, exit_pos, rows, cols, guards, max_steps)\n",
        "        results.append(res)\n",
        "    return results\n"
      ],
      "metadata": {
        "id": "7_5z3LFCQjoo"
      },
      "execution_count": null,
      "outputs": []
    },
    {
      "cell_type": "code",
      "source": [
        "def analyze_with_guards(results, rows, cols, exit_pos, artifact_positions, guards):\n",
        "    visit_matrix = np.zeros((rows, cols), dtype=int)\n",
        "\n",
        "    escaped = sum(1 for r in results if r[\"result\"] == \"escaped\")\n",
        "    caught = sum(1 for r in results if r[\"result\"] == \"caught\")\n",
        "    timeout = sum(1 for r in results if r[\"result\"] == \"timeout\")\n",
        "\n",
        "    for r in results:\n",
        "        for (x, y) in r[\"path\"]:\n",
        "            visit_matrix[x, y] += 1\n",
        "\n",
        "    print(f\" Escaped: {escaped}\")\n",
        "    print(f\"Caught: {caught}\")\n",
        "    print(f\" Timeout: {timeout}\")\n",
        "\n",
        "    # plot heatmap\n",
        "    plt.figure(figsize=(6, 6))\n",
        "    plt.imshow(visit_matrix, cmap=\"hot\", interpolation=\"nearest\")\n",
        "    plt.colorbar(label=\"Visit frequency\")\n",
        "    plt.title(\"Thief Paths with Guards\")\n",
        "    plt.xlabel(\"Columns\")\n",
        "    plt.ylabel(\"Rows\")\n",
        "\n",
        "    # mark features\n",
        "    ar = np.array(artifact_positions)\n",
        "    plt.scatter(ar[:, 1], ar[:, 0], color='blue', s=100, marker='*', label='Artifacts')\n",
        "    plt.scatter(exit_pos[1], exit_pos[0], color='green', s=100, marker='X', label='Exit')\n",
        "\n",
        "    if guards:\n",
        "        g = np.array(list(guards))\n",
        "        plt.scatter(g[:, 1], g[:, 0], color='red', s=80, marker='s', label='Guards')\n",
        "\n",
        "    plt.legend()\n",
        "    plt.show()\n"
      ],
      "metadata": {
        "id": "2U1mEjf_-_3Q"
      },
      "execution_count": null,
      "outputs": []
    },
    {
      "cell_type": "code",
      "source": [
        "rows, cols = 10, 10\n",
        "artifact_positions = [(1, 2), (3, 5), (6, 1), (2, 6)]\n",
        "\n",
        "\n",
        "exit_pos = (0, 8)\n",
        "guards = {(3, 4), (5, 2)}  # some fixed guards\n",
        "\n",
        "results = multiple_thieves_with_guards(50, artifact_positions, exit_pos, rows, cols, guards)\n",
        "analyze_with_guards(results, rows, cols, exit_pos, artifact_positions, guards)\n"
      ],
      "metadata": {
        "colab": {
          "base_uri": "https://localhost:8080/",
          "height": 559
        },
        "id": "2guFxm4FmsLt",
        "outputId": "0fc3ab1b-9615-4839-a8fe-ebb1195ac6f9"
      },
      "execution_count": null,
      "outputs": [
        {
          "output_type": "stream",
          "name": "stdout",
          "text": [
            " Escaped: 0\n",
            "Caught: 33\n",
            " Timeout: 12\n"
          ]
        },
        {
          "output_type": "display_data",
          "data": {
            "text/plain": [
              "<Figure size 600x600 with 2 Axes>"
            ],
            "image/png": "[encoded data removed]"
          },
          "metadata": {}
        }
      ]
    },
    {
      "cell_type": "code",
      "source": [
        "def optimize_guards(num_trials, num_thieves, artifact_positions, exit_pos, rows, cols, num_guards=3, max_steps=50):\n",
        "    best_setup = None\n",
        "    best_catch_rate = -1\n",
        "    all_results = []\n",
        "\n",
        "    for trial in range(num_trials):\n",
        "        # randomly place guards\n",
        "        guards = set()\n",
        "        while len(guards) < num_guards:\n",
        "            g = (random.randint(0, rows-1), random.randint(0, cols-1))\n",
        "            if g not in artifact_positions and g != exit_pos:\n",
        "                guards.add(g)\n",
        "\n",
        "        # simulate thieves for this guard placement\n",
        "        results = multiple_thieves_with_guards(num_thieves, artifact_positions, exit_pos, rows, cols, guards, max_steps)\n",
        "\n",
        "        caught = sum(1 for r in results if r[\"result\"] == \"caught\")\n",
        "        escaped = sum(1 for r in results if r[\"result\"] == \"escaped\")\n",
        "        catch_rate = caught / num_thieves\n",
        "\n",
        "        all_results.append({\n",
        "            \"guards\": guards,\n",
        "            \"caught\": caught,\n",
        "            \"escaped\": escaped,\n",
        "            \"catch_rate\": catch_rate\n",
        "        })\n",
        "\n",
        "        if catch_rate > best_catch_rate:\n",
        "            best_catch_rate = catch_rate\n",
        "            best_setup = guards\n",
        "\n",
        "    print(f\"🏆 Best Catch Rate: {best_catch_rate*100:.1f}%\")\n",
        "    print(f\"🛡️ Best Guard Placement: {best_setup}\")\n",
        "    return best_setup, all_results\n"
      ],
      "metadata": {
        "id": "k0ENk3KHm7AJ"
      },
      "execution_count": null,
      "outputs": []
    },
    {
      "cell_type": "code",
      "source": [
        "from sklearn.linear_model import LinearRegression\n",
        "import pandas as pd\n",
        "\n",
        "def prepare_ml_data(all_results, rows, cols):\n",
        "    \"\"\"\n",
        "    Convert guard placement results into a numeric dataset.\n",
        "    Each grid cell becomes a binary feature (1 = guard present, 0 = not).\n",
        "    \"\"\"\n",
        "    data = []\n",
        "    for res in all_results:\n",
        "        features = np.zeros(rows * cols)\n",
        "        for (r, c) in res[\"guards\"]:\n",
        "            features[r * cols + c] = 1  # encode guard position as 1\n",
        "        features = list(features)\n",
        "        features.append(res[\"catch_rate\"])\n",
        "        data.append(features)\n",
        "\n",
        "    # create column names\n",
        "    columns = [f\"cell_{i}\" for i in range(rows * cols)] + [\"catch_rate\"]\n",
        "    return pd.DataFrame(data, columns=columns)\n",
        "\n",
        "\n",
        "def train_guard_model(all_results, rows, cols):\n",
        "    \"\"\"\n",
        "    Train a regression model to predict catch_rate from guard positions.\n",
        "    \"\"\"\n",
        "    df = prepare_ml_data(all_results, rows, cols)\n",
        "    X = df.drop(\"catch_rate\", axis=1)\n",
        "    y = df[\"catch_rate\"]\n",
        "\n",
        "    model = LinearRegression()\n",
        "    model.fit(X, y)\n",
        "    print(\"✅ ML model trained!\")\n",
        "    print(\"📈 Model R² score:\", model.score(X, y))\n",
        "\n",
        "    return model\n",
        "\n",
        "\n",
        "def predict_guard_value(model, rows, cols):\n",
        "    \"\"\"\n",
        "    Predict which grid cells are most 'valuable' for placing guards.\n",
        "    \"\"\"\n",
        "    cell_values = []\n",
        "    for i in range(rows * cols):\n",
        "        vec = np.zeros(rows * cols)\n",
        "        vec[i] = 1\n",
        "        pred = model.predict([vec])[0]\n",
        "        cell_values.append(pred)\n",
        "\n",
        "    value_matrix = np.array(cell_values).reshape(rows, cols)\n",
        "    plt.figure(figsize=(6,6))\n",
        "    plt.imshow(value_matrix, cmap=\"coolwarm\", interpolation=\"nearest\")\n",
        "    plt.colorbar(label=\"Predicted Guard Effectiveness\")\n",
        "    plt.title(\"ML-Predicted Guard Value Map\")\n",
        "    plt.xlabel(\"Columns\")\n",
        "    plt.ylabel(\"Rows\")\n",
        "    plt.show()\n",
        "\n",
        "    return value_matrix\n"
      ],
      "metadata": {
        "id": "c42XZsJB4j-F"
      },
      "execution_count": null,
      "outputs": []
    },
    {
      "cell_type": "code",
      "source": [
        "import random\n",
        "import numpy as np\n",
        "import matplotlib.pyplot as plt\n",
        "\n",
        "def adaptive_guard_simulation(artifact_positions, exit_pos, rows, cols, num_guards=3, num_thieves=10, rounds=10):\n",
        "    \"\"\"\n",
        "    Guards adapt their positions after every round based on thief movement results.\n",
        "    \"\"\"\n",
        "    # Step 1: initialize random guards\n",
        "    guards = [(random.randint(0, rows-1), random.randint(0, cols-1)) for _ in range(num_guards)]\n",
        "\n",
        "    # track for plotting\n",
        "    guard_positions_over_time = [guards.copy()]\n",
        "\n",
        "    for r in range(rounds):\n",
        "        # Step 2: simulate thieves for this round\n",
        "        thief_paths = multiple_thieves_with_guards(num_thieves, artifact_positions, exit_pos, rows, cols, guards)\n",
        "\n",
        "        thief_ends = [p[\"path\"][-1] for p in thief_paths]\n",
        "\n",
        "\n",
        "        # Step 3: compute which thieves escaped\n",
        "        escaped = [pos for pos in thief_ends if pos == exit_pos]\n",
        "        caught = num_thieves - len(escaped)\n",
        "        print(f\"Round {r+1}: Caught = {caught}, Escaped = {len(escaped)}\")\n",
        "\n",
        "        # Step 4: find \"escape hot zone\" — where thieves passed through most\n",
        "        heatmap = np.zeros((rows, cols))\n",
        "        for result in thief_paths:               # result = one thief’s data dictionary\n",
        "            path = result[\"path\"]                # get list of positions\n",
        "            for (x, y) in path:                  # unpack coordinates\n",
        "                heatmap[x, y] += 1\n",
        "\n",
        "\n",
        "\n",
        "        # Step 5: move guards slightly toward hot zones\n",
        "        new_guards = []\n",
        "        for g in guards:\n",
        "            # find nearby area with high thief activity\n",
        "            neigh = neighbors(g, rows, cols)\n",
        "            best = max(neigh, key=lambda n: heatmap[n[0], n[1]], default=g)\n",
        "            new_guards.append(best)\n",
        "\n",
        "        guards = new_guards\n",
        "        guard_positions_over_time.append(guards.copy())\n",
        "\n",
        "    # Step 6: visualize guard movements over time\n",
        "    plt.figure(figsize=(6,6))\n",
        "    for i, gset in enumerate(guard_positions_over_time):\n",
        "        xs, ys = zip(*gset)\n",
        "        plt.scatter(ys, xs, label=f\"Round {i+1}\", s=100)\n",
        "    plt.gca().invert_yaxis()\n",
        "    plt.title(\"Adaptive Guard Movement Over Rounds\")\n",
        "    plt.legend()\n",
        "    plt.show()\n",
        "\n",
        "    return guards\n"
      ],
      "metadata": {
        "id": "JfdXbA4i4yZe"
      },
      "execution_count": null,
      "outputs": []
    },
    {
      "cell_type": "code",
      "source": [
        "adaptive_guard_simulation(\n",
        "    artifact_positions=artifacts,\n",
        "    exit_pos=exit_pos,\n",
        "    rows=rows,\n",
        "    cols=cols,\n",
        "    num_guards=3,\n",
        "    num_thieves=10,\n",
        "    rounds=10\n",
        ")\n"
      ],
      "metadata": {
        "colab": {
          "base_uri": "https://localhost:8080/",
          "height": 736
        },
        "id": "ReWzUvL25Gmt",
        "outputId": "52c7ccd9-1196-4b0e-8683-13d6c6b60318"
      },
      "execution_count": null,
      "outputs": [
        {
          "output_type": "stream",
          "name": "stdout",
          "text": [
            "Round 1: Caught = 9, Escaped = 1\n",
            "Round 2: Caught = 10, Escaped = 0\n",
            "Round 3: Caught = 10, Escaped = 0\n",
            "Round 4: Caught = 10, Escaped = 0\n",
            "Round 5: Caught = 9, Escaped = 1\n",
            "Round 6: Caught = 10, Escaped = 0\n",
            "Round 7: Caught = 10, Escaped = 0\n",
            "Round 8: Caught = 10, Escaped = 0\n",
            "Round 9: Caught = 10, Escaped = 0\n",
            "Round 10: Caught = 10, Escaped = 0\n"
          ]
        },
        {
          "output_type": "display_data",
          "data": {
            "text/plain": [
              "<Figure size 600x600 with 1 Axes>"
            ],
            "image/png": "[encoded data removed]"
          },
          "metadata": {}
        },
        {
          "output_type": "execute_result",
          "data": {
            "text/plain": [
              "[(3, 6), (6, 1), (3, 6)]"
            ]
          },
          "metadata": {},
          "execution_count": 24
        }
      ]
    },
    {
      "cell_type": "code",
      "source": [],
      "metadata": {
        "id": "3ogR2VDs5It0"
      },
      "execution_count": null,
      "outputs": []
    }
  ]
}